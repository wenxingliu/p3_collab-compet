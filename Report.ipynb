{
 "cells": [
  {
   "cell_type": "markdown",
   "metadata": {},
   "source": [
    "## Solution Summary"
   ]
  },
  {
   "cell_type": "markdown",
   "metadata": {},
   "source": [
    "Same as the continuous control project, I used DDPG framework in this collaboration and competition project. Since both players have the same objective in the game, which is to keep the ball in play as much as possible. The environment given in this project takes both players observations at the same time, and outputs rewards. Since this game is \"symmetric\" in the sense that both players can learn from each other's experience, and share the same goal. We can just consider the two players are independent of each other, almost like two agents are playing sepparately in their own environments."
   ]
  },
  {
   "cell_type": "markdown",
   "metadata": {},
   "source": [
    "### Training"
   ]
  },
  {
   "cell_type": "markdown",
   "metadata": {},
   "source": [
    "In the solution proposed in this repo, the agent is able to solve the environment in less than 1500 episodes. And the average score in a 100-episode-average-score stays above 0.50, and hit an average score of 1.50 at about 2100 episodes. The training scores are shown in the plot below."
   ]
  },
  {
   "cell_type": "markdown",
   "metadata": {},
   "source": [
    "![Scores](DDPG_scores.png)"
   ]
  },
  {
   "cell_type": "markdown",
   "metadata": {},
   "source": [
    "### Test"
   ]
  },
  {
   "cell_type": "markdown",
   "metadata": {},
   "source": [
    "In order to validate the solution. We ran the agent for 100 episodes, and obtained an average score of 1.55. From the plot we can tell the agent is not very stable, in some episodes, it was not able to score at all; while in some episodes, it was able to get scores as high as 2.5."
   ]
  },
  {
   "cell_type": "markdown",
   "metadata": {},
   "source": [
    "![Scores](Test_Agent_scores.png)"
   ]
  },
  {
   "cell_type": "markdown",
   "metadata": {},
   "source": [
    "### Future Works"
   ]
  },
  {
   "cell_type": "markdown",
   "metadata": {},
   "source": [
    "Explore possiblities of stablizing agent's performance."
   ]
  },
  {
   "cell_type": "markdown",
   "metadata": {},
   "source": [
    "-----"
   ]
  }
 ],
 "metadata": {
  "kernelspec": {
   "display_name": "Python 3",
   "language": "python",
   "name": "python3"
  },
  "language_info": {
   "codemirror_mode": {
    "name": "ipython",
    "version": 3
   },
   "file_extension": ".py",
   "mimetype": "text/x-python",
   "name": "python",
   "nbconvert_exporter": "python",
   "pygments_lexer": "ipython3",
   "version": "3.6.4"
  }
 },
 "nbformat": 4,
 "nbformat_minor": 2
}
