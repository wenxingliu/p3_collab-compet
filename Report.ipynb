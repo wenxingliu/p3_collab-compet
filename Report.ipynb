{
 "cells": [
  {
   "cell_type": "markdown",
   "metadata": {},
   "source": [
    "## Summary"
   ]
  },
  {
   "cell_type": "markdown",
   "metadata": {},
   "source": [
    "Same as the continuous control project, I used DDPG framework in this collaboration and competition project. Since both players have the same objective in the game, which is to keep the ball in play as much as possible. The environment given in this project takes both players observations at the same time, and outputs rewards. Since this game is \"symmetric\" in the sense that both players can learn from each other's experience, and share the same goal. I just consider the two players as "
   ]
  }
 ],
 "metadata": {
  "kernelspec": {
   "display_name": "Python 3",
   "language": "python",
   "name": "python3"
  },
  "language_info": {
   "codemirror_mode": {
    "name": "ipython",
    "version": 3
   },
   "file_extension": ".py",
   "mimetype": "text/x-python",
   "name": "python",
   "nbconvert_exporter": "python",
   "pygments_lexer": "ipython3",
   "version": "3.6.5"
  }
 },
 "nbformat": 4,
 "nbformat_minor": 2
}
